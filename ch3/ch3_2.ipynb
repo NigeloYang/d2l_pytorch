{
 "cells": [
  {
   "cell_type": "markdown",
   "id": "8214df3c",
   "metadata": {},
   "source": [
    "## 3.2 线性回归从零开始实现\n",
    "这一节中，我们将从零开始实现整个方法， 包括数据流水线、模型、损失函数和小批量随机梯度下降优化器"
   ]
  },
  {
   "cell_type": "code",
   "execution_count": 1,
   "id": "8b18252c",
   "metadata": {},
   "outputs": [],
   "source": [
    "import random\n",
    "import torch"
   ]
  },
  {
   "cell_type": "markdown",
   "id": "1f82c8a4",
   "metadata": {},
   "source": [
    "### 3.2.1 生成数据集\n",
    "简单起见，我们将根据带有噪声的线性模型构造一个人造数据集。 我们的任务是使用这个有限样本的数据集来恢复这个模型的参数。 我们将使用低维数据，这样可以很容易地将其可视化。在下面的代码中，我们生成一个包含1000个样本的数据集， 每个样本包含从标准正态分布中采样的2个特征。 我们的合成数据集是一个矩阵$X \\in \\mathcal{R}^{1000*2}$"
   ]
  },
  {
   "cell_type": "code",
   "execution_count": 2,
   "id": "e7cafa56",
   "metadata": {
    "pycharm": {
     "name": "#%%\n"
    }
   },
   "outputs": [],
   "source": [
    "def synthetic_data(w,b,num_examples):\n",
    "    '''生成  y = Xw + b + 噪声'''\n",
    "    X = torch.normal(0,1,(num_examples,len(w)))\n",
    "    y = torch.matmul(X,w)+b\n",
    "    y += torch.normal(0,0.01,y.shape)\n",
    "    return X, y.reshape((-1,1))\n",
    "\n",
    "true_w = torch.tensor([2,-3.4])\n",
    "true_b = 4.2\n",
    "features, labels = synthetic_data(true_w,true_b,1000)"
   ]
  },
  {
   "cell_type": "markdown",
   "id": "2f9d053a",
   "metadata": {
    "pycharm": {
     "name": "#%%\n"
    }
   },
   "source": [
    "注意，features中的每一行都包含一个二维数据样本， labels中的每一行都包含一维标签值（一个标量）。"
   ]
  },
  {
   "cell_type": "code",
   "execution_count": 3,
   "id": "423e1714",
   "metadata": {},
   "outputs": [
    {
     "name": "stdout",
     "output_type": "stream",
     "text": [
      "features: tensor([-0.3234, -0.0593]) \n",
      "label: tensor([3.7554])\n"
     ]
    }
   ],
   "source": [
    "print('features:', features[0],'\\nlabel:', labels[0])"
   ]
  },
  {
   "cell_type": "markdown",
   "id": "26b1755f",
   "metadata": {},
   "source": [
    "通过生成第二个特征features[:, 1]和labels的散点图， 可以直观观察到两者之间的线性关系。"
   ]
  },
  {
   "cell_type": "code",
   "execution_count": 4,
   "id": "d9a9d754",
   "metadata": {},
   "outputs": [
    {
     "data": {
      "image/png": "[encoded data removed]",
      "text/plain": [
       "<Figure size 432x288 with 1 Axes>"
      ]
     },
     "metadata": {
      "needs_background": "light"
     },
     "output_type": "display_data"
    }
   ],
   "source": [
    "import os\n",
    "os.environ[\"KMP_DUPLICATE_LIB_OK\"]=\"TRUE\"\n",
    "import matplotlib.pyplot as plt\n",
    "\n",
    "plt.figure()\n",
    "plt.scatter(features[:,1].detach().numpy(),labels.detach().numpy(),1)\n",
    "plt.show()"
   ]
  },
  {
   "cell_type": "markdown",
   "id": "255c1492",
   "metadata": {},
   "source": [
    "### 3.2.2 读取数据集\n",
    "\n",
    "训练模型时要对数据集进行遍历，每次抽取一小批量样本，并使用它们来更新我们的模型。 由于这个过程是训练机器学习算法的基础，所以有必要定义一个函数， 该函数能打乱数据集中的样本并以小批量方式获取数据。\n",
    "\n",
    "在下面的代码中，我们定义一个data_iter函数， 该函数接收批量大小、特征矩阵和标签向量作为输入，生成大小为batch_size的小批量。 每个小批量包含一组特征和标签。"
   ]
  },
  {
   "cell_type": "code",
   "execution_count": 5,
   "id": "e1aaf9ec",
   "metadata": {},
   "outputs": [],
   "source": [
    "def data_iter(batch_size, features, labels):\n",
    "    num_examples = len(features)\n",
    "    indices = list(range(num_examples))\n",
    "    # 这些样本是随机读取的，没有特定的顺序\n",
    "    random.shuffle(indices)\n",
    "    for i in range(0,num_examples,batch_size):\n",
    "        batch_indices = torch.tensor(indices[i:min(i + batch_size, num_examples)])\n",
    "        yield features[batch_indices],labels[batch_indices]"
   ]
  },
  {
   "cell_type": "markdown",
   "id": "0ccfcfad",
   "metadata": {},
   "source": [
    "通常，我们利用GPU并行运算的优势，处理合理大小的“小批量”。 每个样本都可以并行地进行模型计算，且每个样本损失函数的梯度也可以被并行计算。 GPU可以在处理几百个样本时，所花费的时间不比处理一个样本时多太多。\n",
    "\n",
    "我们直观感受一下小批量运算：读取第一个小批量数据样本并打印。 每个批量的特征维度显示批量大小和输入特征数。 同样的，批量的标签形状与batch_size相等。"
   ]
  },
  {
   "cell_type": "code",
   "execution_count": 6,
   "id": "71364155",
   "metadata": {},
   "outputs": [
    {
     "name": "stdout",
     "output_type": "stream",
     "text": [
      "tensor([[ 0.9150, -1.5341],\n",
      "        [-0.2922, -1.0456],\n",
      "        [ 1.3034,  1.1610],\n",
      "        [ 0.0903,  1.0224],\n",
      "        [ 0.9239, -0.0307],\n",
      "        [-0.2999,  0.6628],\n",
      "        [ 1.6242, -0.5583],\n",
      "        [ 0.1993, -0.2599],\n",
      "        [-0.1996,  0.1486],\n",
      "        [-1.9182, -2.3965]]) \n",
      " tensor([[11.2512],\n",
      "        [ 7.1768],\n",
      "        [ 2.8552],\n",
      "        [ 0.8987],\n",
      "        [ 6.1418],\n",
      "        [ 1.3456],\n",
      "        [ 9.3358],\n",
      "        [ 5.4837],\n",
      "        [ 3.2794],\n",
      "        [ 8.5036]])\n"
     ]
    }
   ],
   "source": [
    "batch_size = 10\n",
    "\n",
    "for X,y in data_iter(batch_size,features,labels):\n",
    "    print(X,'\\n',y)\n",
    "    break"
   ]
  },
  {
   "cell_type": "markdown",
   "id": "693aa98f",
   "metadata": {},
   "source": [
    "当我们运行迭代时，我们会连续地获得不同的小批量，直至遍历完整个数据集。 上面实现的迭代对教学来说很好，但它的执行效率很低，可能会在实际问题上陷入麻烦。 例如，它要求我们将所有数据加载到内存中，并执行大量的随机内存访问。 在深度学习框架中实现的内置迭代器效率要高得多， 它可以处理存储在文件中的数据和数据流提供的数据。\n",
    "\n",
    "### 3.2.3 初始化模型参数\n",
    "在我们开始用小批量随机梯度下降优化我们的模型参数之前， 我们需要先有一些参数。 在下面的代码中，我们通过从均值为0、标准差为0.01的正态分布中采样随机数来初始化权重， 并将偏置初始化为0。"
   ]
  },
  {
   "cell_type": "code",
   "execution_count": 7,
   "id": "42f45b6e",
   "metadata": {},
   "outputs": [],
   "source": [
    "w = torch.normal(0,0.01,size=(2,1),requires_grad = True)\n",
    "b = torch.zeros(1,requires_grad=True)"
   ]
  },
  {
   "cell_type": "markdown",
   "id": "d0dc3866",
   "metadata": {},
   "source": [
    "在初始化参数之后，我们的任务是更新这些参数，直到这些参数足够拟合我们的数据。 每次更新都需要计算损失函数关于模型参数的梯度。 有了这个梯度，我们就可以向减小损失的方向更新每个参数。 因为手动计算梯度很枯燥而且容易出错，所以没有人会手动计算梯度。 我们使用 2.5节中引入的自动微分来计算梯度。\n",
    "\n",
    "### 3.2.4 定义模型\n",
    "接下来，我们必须定义模型，将模型的输入和参数同模型的输出关联起来。 回想一下，要计算线性模型的输出， 我们只需计算输入特征$X$和模型权重$w$的矩阵-向量乘法后加上偏置。 注意，上面的$Xw$是一个向量，而$b$是一个标量。 回想一下 2.1.3节中描述的广播机制： 当我们用一个向量加一个标量时，标量会被加到向量的每个分量上。"
   ]
  },
  {
   "cell_type": "code",
   "execution_count": 8,
   "id": "59b335e7",
   "metadata": {},
   "outputs": [
    {
     "ename": "IndentationError",
     "evalue": "unexpected indent (2894703169.py, line 3)",
     "output_type": "error",
     "traceback": [
      "\u001B[1;36m  Input \u001B[1;32mIn [8]\u001B[1;36m\u001B[0m\n\u001B[1;33m    return torch.matmul(X, w) + b\u001B[0m\n\u001B[1;37m    ^\u001B[0m\n\u001B[1;31mIndentationError\u001B[0m\u001B[1;31m:\u001B[0m unexpected indent\n"
     ]
    }
   ],
   "source": [
    "def linreg(X,w,b):  #@save\n",
    "    '''线性回归模型'''\n",
    "     return torch.matmul(X, w) + b"
   ]
  },
  {
   "cell_type": "markdown",
   "id": "3776881b",
   "metadata": {},
   "source": [
    "### 3.2.5 定义损失函数\n",
    "\n",
    "因为需要计算损失函数的梯度，所以我们应该先定义损失函数。 这里我们使用 3.1节中描述的平方损失函数。 在实现中，我们需要将真实值y的形状转换为和预测值y_hat的形状相同。"
   ]
  },
  {
   "cell_type": "code",
   "execution_count": 9,
   "id": "93b5c596",
   "metadata": {},
   "outputs": [],
   "source": [
    "def squared_loss(y_hat,y): #@save\n",
    "    '''均方损失'''\n",
    "    return (y_hat - y.reshape(y_hat.shape))**2/2"
   ]
  },
  {
   "cell_type": "markdown",
   "id": "d6779e27",
   "metadata": {},
   "source": [
    "### 3.2.6 定义优化算法\n",
    "正如我们在 3.1节中讨论的，线性回归有解析解。 尽管线性回归有解析解，但本书中的其他模型却没有。 这里我们介绍小批量随机梯度下降。\n",
    "\n",
    "在每一步中，使用从数据集中随机抽取的一个小批量，然后根据参数计算损失的梯度。 接下来，朝着减少损失的方向更新我们的参数。 下面的函数实现小批量随机梯度下降更新。 该函数接受模型参数集合、学习速率和批量大小作为输入。每一步更新的大小由学习速率lr决定。 因为我们计算的损失是一个批量样本的总和，所以我们用批量大小（batch_size） 来规范化步长，这样步长大小就不会取决于我们对批量大小的选择。"
   ]
  },
  {
   "cell_type": "code",
   "execution_count": 10,
   "id": "d68f7161",
   "metadata": {},
   "outputs": [],
   "source": [
    "def sgd(params,lr,batch_size): #@save\n",
    "    '''小批量随机梯度下降'''\n",
    "    with torch.no_grad():\n",
    "        for param in params:\n",
    "            param -= lr * param.grad / batch_size\n",
    "            param.grad.zero_()"
   ]
  },
  {
   "cell_type": "markdown",
   "id": "b8486d76",
   "metadata": {},
   "source": [
    "### 3.2.7 训练\n",
    "\n",
    "现在我们已经准备好了模型训练所有需要的要素，可以实现主要的训练过程部分了。 理解这段代码至关重要，因为从事深度学习后， 相同的训练过程几乎一遍又一遍地出现。 在每次迭代中，我们读取一小批量训练样本，并通过我们的模型来获得一组预测。 计算完损失后，我们开始反向传播，存储每个参数的梯度。 最后，我们调用优化算法sgd来更新模型参数。\n",
    "\n",
    "概括一下，我们将执行以下循环：\n",
    "\n",
    "- 初始化参数\n",
    "- 重复以下训练，直到完成\n",
    "  - 计算梯度$g \\gets \\partial_{w,b}\\frac{1}{|\\beta |}\\sum_{i\\in\\beta} l(x^{i},y^{i},w,b)$\n",
    "  - 更新参数 $(w,b) \\gets (w,b)- \\eta g$\n",
    " \n",
    "在每个迭代周期（epoch）中，我们使用data_iter函数遍历整个数据集， 并将训练数据集中所有样本都使用一次（假设样本数能够被批量大小整除）。 这里的迭代周期个数num_epochs和学习率lr都是超参数，分别设为3和0.03。 设置超参数很棘手，需要通过反复试验进行调整。 我们现在忽略这些细节，以后会在 11节中详细介绍。"
   ]
  },
  {
   "cell_type": "code",
   "execution_count": 11,
   "id": "4485a029",
   "metadata": {},
   "outputs": [
    {
     "ename": "NameError",
     "evalue": "name 'linreg' is not defined",
     "output_type": "error",
     "traceback": [
      "\u001B[1;31m---------------------------------------------------------------------------\u001B[0m",
      "\u001B[1;31mNameError\u001B[0m                                 Traceback (most recent call last)",
      "Input \u001B[1;32mIn [11]\u001B[0m, in \u001B[0;36m<cell line: 3>\u001B[1;34m()\u001B[0m\n\u001B[0;32m      1\u001B[0m lr \u001B[38;5;241m=\u001B[39m \u001B[38;5;241m0.03\u001B[39m\n\u001B[0;32m      2\u001B[0m num_epochs \u001B[38;5;241m=\u001B[39m \u001B[38;5;241m3\u001B[39m\n\u001B[1;32m----> 3\u001B[0m net \u001B[38;5;241m=\u001B[39m \u001B[43mlinreg\u001B[49m\n\u001B[0;32m      4\u001B[0m loss \u001B[38;5;241m=\u001B[39m squared_loss\n\u001B[0;32m      6\u001B[0m \u001B[38;5;28;01mfor\u001B[39;00m epoch \u001B[38;5;129;01min\u001B[39;00m \u001B[38;5;28mrange\u001B[39m(num_epochs):\n",
      "\u001B[1;31mNameError\u001B[0m: name 'linreg' is not defined"
     ]
    }
   ],
   "source": [
    "lr = 0.03\n",
    "num_epochs = 3\n",
    "net = linreg\n",
    "loss = squared_loss\n",
    "\n",
    "for epoch in range(num_epochs):\n",
    "    for X,y in data_iter(batch_size,features,labels):\n",
    "        l = loss(net(X,w,b),y)  # X 和 y 的小批量损失\n",
    "        # 因为 L 形状是（batch_size，1），而不是一个标量。L中的所有元素被加到一起，并以此计算关于[w,b]的梯度\n",
    "        l.sum().backward()\n",
    "        sgd([w,b],lr,batch_size) # 使用参数的梯度更新参数\n",
    "    with torch.no_grad():\n",
    "        train_l = loss(net(features,w,b),labels)\n",
    "        print(f'epoch {epoch + 1}, loss {float(train_l.mean()):f}')"
   ]
  },
  {
   "cell_type": "markdown",
   "id": "a19123ca",
   "metadata": {},
   "source": [
    "因为我们使用的是自己合成的数据集，所以我们知道真正的参数是什么。 因此，我们可以通过比较真实参数和通过训练学到的参数来评估训练的成功程度。 事实上，真实参数和通过训练学到的参数确实非常接近。"
   ]
  },
  {
   "cell_type": "code",
   "execution_count": 12,
   "id": "18a85ccb",
   "metadata": {},
   "outputs": [
    {
     "name": "stdout",
     "output_type": "stream",
     "text": [
      "w的估计误差: tensor([ 1.9737, -3.4000], grad_fn=<SubBackward0>)\n",
      "b的估计误差: tensor([4.2000], grad_fn=<RsubBackward1>)\n"
     ]
    }
   ],
   "source": [
    "print(f'w的估计误差: {true_w - w.reshape(true_w.shape)}')\n",
    "print(f'b的估计误差: {true_b - b}')"
   ]
  }
 ],
 "metadata": {
  "kernelspec": {
   "display_name": "ml",
   "language": "python",
   "name": "ml"
  },
  "language_info": {
   "codemirror_mode": {
    "name": "ipython",
    "version": 3
   },
   "file_extension": ".py",
   "mimetype": "text/x-python",
   "name": "python",
   "nbconvert_exporter": "python",
   "pygments_lexer": "ipython3",
   "version": "3.8.12"
  }
 },
 "nbformat": 4,
 "nbformat_minor": 5
}