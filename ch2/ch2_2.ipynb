{
 "cells": [
  {
   "cell_type": "markdown",
   "id": "f3396b6d",
   "metadata": {},
   "source": [
    "# 2.数据预处理\n",
    "为了能⽤深度学习来解决现实世界的问题，我们经常从预处理原始数据开始，⽽不是从那些准备好的张量格式数据开始，常用数据处理工具有numpy,pandas等\n",
    "\n",
    "## 2.2.1 读取数据集\n",
    "举⼀个例⼦，我们⾸先创建⼀个⼈⼯数据集，并存储在CSV（逗号分隔值）⽂件 ../data/house_tiny.csv中。以其他格式存储的数据也可以通过类似的⽅式进⾏处理。下⾯我们将数据集按⾏写⼊CSV⽂件中。"
   ]
  },
  {
   "cell_type": "code",
   "execution_count": 1,
   "id": "68e8bc85",
   "metadata": {},
   "outputs": [],
   "source": [
    "import os\n",
    "\n",
    "os.makedirs(os.path.join('..','data'),exist_ok=True)\n",
    "data_file = os.path.join('..','data','house_tiny.csv')\n",
    "with open(data_file,'w') as f:\n",
    "    f.write('NumRooms, Alley, Prices\\n') # 列名\n",
    "    f.write('NA,Pave,127500\\n') # 没行表示一个样本\n",
    "    f.write('1,Pave,124500\\n') \n",
    "    f.write('3,NA,123200\\n') \n",
    "    f.write('NA,NA,123200\\n') "
   ]
  },
  {
   "cell_type": "markdown",
   "id": "057dfaeb",
   "metadata": {},
   "source": [
    "要从创建的CSV⽂件中加载原始数据集，我们导⼊pandas包并调⽤read_csv函数。该数据集有四⾏三列。其\n",
    "中每⾏描述了房间数量（“NumRooms”）、巷⼦类型（“Alley”）和房屋价格（“Price”）。"
   ]
  },
  {
   "cell_type": "code",
   "execution_count": 4,
   "id": "41f51282",
   "metadata": {},
   "outputs": [
    {
     "name": "stdout",
     "output_type": "stream",
     "text": [
      "data dir ..\\data\\house_tiny.csv\n",
      "   NumRooms  Alley   Prices\n",
      "0       NaN   Pave   127500\n",
      "1       1.0   Pave   124500\n",
      "2       3.0    NaN   123200\n",
      "3       NaN    NaN   123200\n"
     ]
    }
   ],
   "source": [
    "import pandas as pd\n",
    "\n",
    "print('data dir',data_file)\n",
    "data = pd.read_csv(data_file)\n",
    "print(data)"
   ]
  },
  {
   "cell_type": "code",
   "execution_count": null,
   "id": "46c13157",
   "metadata": {},
   "outputs": [],
   "source": []
  }
 ],
 "metadata": {
  "kernelspec": {
   "display_name": "ml",
   "language": "python",
   "name": "ml"
  },
  "language_info": {
   "codemirror_mode": {
    "name": "ipython",
    "version": 3
   },
   "file_extension": ".py",
   "mimetype": "text/x-python",
   "name": "python",
   "nbconvert_exporter": "python",
   "pygments_lexer": "ipython3",
   "version": "3.8.12"
  }
 },
 "nbformat": 4,
 "nbformat_minor": 5
}
